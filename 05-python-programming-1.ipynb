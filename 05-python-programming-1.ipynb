{
 "cells": [
  {
   "cell_type": "markdown",
   "metadata": {},
   "source": [
    "# Python: programowanie"
   ]
  },
  {
   "cell_type": "markdown",
   "metadata": {},
   "source": [
    "## Zasady pisania kodu\n",
    "\n",
    "Dobre praktyki związane ze stylem pisania kodu w Python opisano w [PEP 8 - Style Guide for Python Code](https://www.python.org/dev/peps/pep-0008/):\n",
    "- stosujemy wcięcia kodu o wielkości 4 spacji\n",
    "- linie nie powinny być dłuższe niż 79 znaków\n",
    "- `variable_name`, `CONSTANT`, ...\n",
    "- kod powinien być czytelny"
   ]
  },
  {
   "cell_type": "markdown",
   "metadata": {},
   "source": [
    "### Zen of Python\n",
    "\n",
    "Zen of Python to najważniejsze zasady związane z pisaniem programów w języku Python."
   ]
  },
  {
   "cell_type": "code",
   "execution_count": null,
   "metadata": {},
   "outputs": [],
   "source": [
    "import this"
   ]
  },
  {
   "cell_type": "markdown",
   "metadata": {},
   "source": [
    "## Instrukcja warunkowa"
   ]
  },
  {
   "cell_type": "code",
   "execution_count": null,
   "metadata": {},
   "outputs": [],
   "source": [
    "height = 1.81\n",
    "weight = 82\n",
    "bmi = weight / height ** 2\n",
    "if bmi > 25.0:\n",
    "    print(f'czas na dietę (BMI = {bmi})')"
   ]
  },
  {
   "cell_type": "code",
   "execution_count": null,
   "metadata": {},
   "outputs": [],
   "source": [
    "height = 1.81\n",
    "weight = 50\n",
    "bmi = weight / height ** 2\n",
    "if bmi > 25.0:\n",
    "    print(f'czas na dietę (BMI = {bmi})')\n",
    "# warunki są sprawdzane według kolejności, wykonywany jest pierwszy spełniony\n",
    "elif bmi > 18.5:\n",
    "    print(f'waga w normie (BMI = {bmi})')\n",
    "# jeśli żaden warunek nie został spełniony\n",
    "else:\n",
    "    print(f'dodatkowy deser (BMI = {bmi})')"
   ]
  },
  {
   "cell_type": "code",
   "execution_count": null,
   "metadata": {},
   "outputs": [],
   "source": [
    "x = -2\n",
    "\n",
    "if x >= 0:\n",
    "    sign = 1\n",
    "else:\n",
    "    sign = -1\n",
    "\n",
    "# skrócona instrukcja warunkowa\n",
    "sign = 1 if x >= 0 else -1\n",
    "\n",
    "sign"
   ]
  },
  {
   "cell_type": "markdown",
   "metadata": {},
   "source": [
    "## Pętla while"
   ]
  },
  {
   "cell_type": "code",
   "execution_count": null,
   "metadata": {},
   "outputs": [],
   "source": [
    "i = 3\n",
    "while i > 0:\n",
    "    print(f'i = {i}')\n",
    "    i -= 1"
   ]
  },
  {
   "cell_type": "code",
   "execution_count": null,
   "metadata": {},
   "outputs": [],
   "source": [
    "i = 5\n",
    "while i > 0:\n",
    "    i -= 1\n",
    "    if i == 2:\n",
    "        # wznawia pętlę\n",
    "        continue\n",
    "    print(f'i = {i}')\n",
    "else:\n",
    "    print('koniec')"
   ]
  },
  {
   "cell_type": "code",
   "execution_count": null,
   "metadata": {},
   "outputs": [],
   "source": [
    "i = 3\n",
    "while True:\n",
    "    i -= 1\n",
    "    if i==0:\n",
    "        # przerywa pętlę\n",
    "        break\n",
    "    print(f'i = {i}')\n",
    "else:\n",
    "    print('koniec')"
   ]
  },
  {
   "cell_type": "markdown",
   "metadata": {},
   "source": [
    "Zaimplementuj program:\n",
    "* drukujący tabliczkę mnożenia w zakresie od 1 do 10\n",
    "* drukujący tabliczkę mnożenia w zakresie od 1 do 10 dla liczb parzystych\n",
    "* drukujący tabliczkę mnożenia w zakresie od 1 do 10 dla liczb parzystych poza 6"
   ]
  },
  {
   "cell_type": "code",
   "execution_count": null,
   "metadata": {},
   "outputs": [],
   "source": []
  },
  {
   "cell_type": "markdown",
   "metadata": {},
   "source": [
    "## Pętla for"
   ]
  },
  {
   "cell_type": "code",
   "execution_count": null,
   "metadata": {},
   "outputs": [],
   "source": [
    "for c in 'Hello':\n",
    "    print(c)"
   ]
  },
  {
   "cell_type": "code",
   "execution_count": null,
   "metadata": {},
   "outputs": [],
   "source": [
    "names = ['Anna', 'Jan', 'Katarzyna', 'Aleksandra', 'Adam']\n",
    "for name in names:\n",
    "    print(name)"
   ]
  },
  {
   "cell_type": "code",
   "execution_count": null,
   "metadata": {},
   "outputs": [],
   "source": [
    "for i in range(5):\n",
    "    print(i)"
   ]
  },
  {
   "cell_type": "markdown",
   "metadata": {},
   "source": [
    "Wydrukuj liczby nieparzyste w zakresie od 0 do 100 podzielne przez 3 ale nie przez 15."
   ]
  },
  {
   "cell_type": "code",
   "execution_count": null,
   "metadata": {},
   "outputs": [],
   "source": []
  },
  {
   "cell_type": "markdown",
   "metadata": {},
   "source": [
    "## Wyrażenia listowe\n",
    "\n",
    "Wyrażenia listowe to uproszczona konstrukcja tworzenia listy\n",
    "\n",
    "list = [*expression* for *item* in *iterable* if *condition* == True]"
   ]
  },
  {
   "cell_type": "code",
   "execution_count": null,
   "metadata": {},
   "outputs": [],
   "source": [
    "# lista imion zaczynających się na 'A'\n",
    "names = ['Anna', 'Jan', 'Katarzyna', 'Aleksandra', 'Adam']\n",
    "a_names = list()\n",
    "for name in names:\n",
    "    if name.startswith('A'):\n",
    "        a_names.append(name.upper())\n",
    "print(a_names)"
   ]
  },
  {
   "cell_type": "code",
   "execution_count": null,
   "metadata": {},
   "outputs": [],
   "source": [
    "names = ['Anna', 'Jan', 'Katarzyna', 'Aleksandra', 'Adam']\n",
    "a_names = [i for i in names if i.startswith('A')]\n",
    "print(a_names)"
   ]
  },
  {
   "cell_type": "code",
   "execution_count": null,
   "metadata": {},
   "outputs": [],
   "source": [
    "# lista liczb\n",
    "[i for i in range(10)]"
   ]
  },
  {
   "cell_type": "markdown",
   "metadata": {},
   "source": [
    "## Funkcje"
   ]
  },
  {
   "cell_type": "code",
   "execution_count": null,
   "metadata": {},
   "outputs": [],
   "source": [
    "def sub(x, y=1):\n",
    "    print(\"sub\")\n",
    "    return x - y\n",
    "\n",
    "\n",
    "# wywołanie funkcji\n",
    "print(sub(2, 1))\n",
    "print(sub(y=10, x=20))\n",
    "print(sub(1))"
   ]
  },
  {
   "cell_type": "code",
   "execution_count": null,
   "metadata": {},
   "outputs": [],
   "source": []
  }
 ],
 "metadata": {
  "kernelspec": {
   "display_name": "Python 3",
   "language": "python",
   "name": "python3"
  },
  "language_info": {
   "codemirror_mode": {
    "name": "ipython",
    "version": 3
   },
   "file_extension": ".py",
   "mimetype": "text/x-python",
   "name": "python",
   "nbconvert_exporter": "python",
   "pygments_lexer": "ipython3",
   "version": "3.9.2"
  }
 },
 "nbformat": 4,
 "nbformat_minor": 4
}
