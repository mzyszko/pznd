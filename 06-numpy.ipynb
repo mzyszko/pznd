{
 "cells": [
  {
   "cell_type": "markdown",
   "metadata": {},
   "source": [
    "## NumPy\n",
    "\n",
    "NumPy to podstawowy pakiet do obliczeń naukowych w Pythonie. Zawiera między innymi:\n",
    "- wydajny n-wymiarowy obiekt tablicy\n",
    "- zaawansowane funkcje (nadawanie)\n",
    "- narzędzia do integracji z C/C ++ i Fortran\n",
    "- operacje algebry liniowej, transformatę Fouriera i generator liczb losowych"
   ]
  },
  {
   "cell_type": "code",
   "execution_count": null,
   "metadata": {},
   "outputs": [],
   "source": [
    "import numpy as np"
   ]
  },
  {
   "cell_type": "markdown",
   "metadata": {},
   "source": [
    "### Tablica\n",
    "\n",
    "Podstawowym obiektem w NumPy jest tablica `ndarray`. Talbicę można stworzyć z kolekcji za pomocą funkcji `ndarray` lub jej aliasu `array`."
   ]
  },
  {
   "cell_type": "code",
   "execution_count": null,
   "metadata": {},
   "outputs": [],
   "source": [
    "n1 = np.array([1,2,3])\n",
    "print(n1)\n",
    "n2 = np.array([[1,2],[3,4]])\n",
    "n2"
   ]
  },
  {
   "cell_type": "code",
   "execution_count": null,
   "metadata": {},
   "outputs": [],
   "source": [
    "print('Wymiar: n1: {}, n2: {}'.format(n1.ndim, n2.ndim))\n",
    "print('Kształt: n1: {}, n2: {}'.format(n1.shape, n2.shape))\n",
    "print('Rozmiar: n1: {}, n2: {}'.format(n1.size, n2.size))\n",
    "print('Typ: n1: {}, n2: {}'.format(n1.dtype, n2.dtype))\n",
    "print('Rozmiar elementu (w bajtach): n1: {}, n2: {}'.format(n1.itemsize, n2.itemsize))\n",
    "print('Wskaźnik do danych: n1: {}, n2: {}'.format(n1.data, n2.data))"
   ]
  },
  {
   "cell_type": "markdown",
   "metadata": {},
   "source": [
    "W przeciwieństwie do kolekcji, tablice mogą mieć tylko jeden typ elementu."
   ]
  },
  {
   "cell_type": "code",
   "execution_count": null,
   "metadata": {},
   "outputs": [],
   "source": [
    "for v in [1, 1., 1j]:\n",
    "    a = np.array([v])\n",
    "    print('Tablica: {}, typ: {}'.format(a, a.dtype))\n",
    "# można wymusić typ przy tworzeniu tablicy\n",
    "a = np.array([1123, 1], dtype=str)\n",
    "print('Tablica: {}, typ: {}'.format(a, a.dtype))"
   ]
  },
  {
   "cell_type": "markdown",
   "metadata": {},
   "source": [
    "Ogólne metody tworzenia tablic o specyficznych właściwościach."
   ]
  },
  {
   "cell_type": "code",
   "execution_count": null,
   "metadata": {},
   "outputs": [],
   "source": [
    "print('Zakres:\\n{}'.format(np.arange(1,10)))\n",
    "print('Zera:\\n{}'.format(np.zeros((2,3))))\n",
    "print('Jedynki:\\n{}'.format(np.ones((3,2))))\n",
    "print('Pusta:\\n{}'.format(np.empty((2,7)))) # bez inicjalizacji\n",
    "print('Losowa:\\n{}'.format(np.random.rand(2,2)))"
   ]
  },
  {
   "cell_type": "markdown",
   "metadata": {},
   "source": [
    "Pobieranie wartości z tablic."
   ]
  },
  {
   "cell_type": "code",
   "execution_count": null,
   "metadata": {},
   "outputs": [],
   "source": [
    "print(n1)\n",
    "print(n2)\n",
    "# jak w kolekcjach\n",
    "print(n1[1], n2[1][1])\n",
    "# lub krócej\n",
    "print(n2[1,1])\n",
    "# przecięcia podobnie w kolekcjach\n",
    "print(n2[1,:])\n",
    "print(n2[:,1])\n",
    "print(n2[1,:1])"
   ]
  },
  {
   "cell_type": "markdown",
   "metadata": {},
   "source": [
    "Operacje w tablicach wykonywane są na poszczególnych elementach, np. jak pomnożymy dwie tablice pomnożone zostaną tylko elementy na tych samych pozycjach przez siebie."
   ]
  },
  {
   "cell_type": "code",
   "execution_count": null,
   "metadata": {},
   "outputs": [],
   "source": [
    "a = np.random.randint(10,size=(2,3))\n",
    "print('a = \\n{}'.format(a))\n",
    "print('2*a = \\n{}'.format(2+a))\n",
    "print('a**2 = \\n{}'.format(a**2))\n",
    "print('a*a = \\n{}'.format(a*a))"
   ]
  },
  {
   "cell_type": "markdown",
   "metadata": {},
   "source": [
    "### Macierze\n",
    "\n",
    "Numpy ma również typ macierzy `matrix`. Jest on podobny do tablicy ale podstawowe operacje wykonywane są w sposób macierzowy a nie tablicowy."
   ]
  },
  {
   "cell_type": "code",
   "execution_count": null,
   "metadata": {},
   "outputs": [],
   "source": [
    "m = np.matrix([[1,2], [3,4]])\n",
    "mm = np.matrix([[5,6], [7,8]])\n",
    "\n",
    "print('m*mm = \\n{}'.format(m*mm))\n",
    "print('m**2 = \\n {}'.format(m**2))\n",
    "print('m*2 = \\n ={}'.format(m*2))\n",
    "\n",
    "d = np.diag([3,4])\n",
    "print('d = \\n {}'.format(d))\n",
    "print('d*m = \\n {}'.format(d*m))"
   ]
  },
  {
   "cell_type": "markdown",
   "metadata": {},
   "source": [
    "Tablic można używać podobnie wykorzystując odpowiednie funkcje (np. `dot`)."
   ]
  },
  {
   "cell_type": "code",
   "execution_count": null,
   "metadata": {},
   "outputs": [],
   "source": [
    "a = np.array([[1,2], [3,4]])\n",
    "aa = np.array([[5,6], [7,8]])\n",
    "\n",
    "print('a*aa = \\n{}'.format(a*aa))\n",
    "print('a.dot(aa) = \\n{}'.format(a.dot(aa)))\n",
    "print('a**2 = \\n {}'.format(a**2))\n",
    "print('a*2 = \\n ={}'.format(a*2))"
   ]
  },
  {
   "cell_type": "markdown",
   "metadata": {},
   "source": [
    "Operacje algebry liniowej można wykonywać zarówno na tablicach jak i macierzach"
   ]
  },
  {
   "cell_type": "code",
   "execution_count": null,
   "metadata": {},
   "outputs": [],
   "source": [
    "print('det(m) = {}'.format(np.linalg.det(m)))\n",
    "print('det(a) = {}'.format(np.linalg.det(a)))"
   ]
  },
  {
   "cell_type": "markdown",
   "metadata": {},
   "source": [
    "## Zadanie\n",
    "Mamy liczbę trzycyfrową. Jeżeli od liczby dziesiątek odejmiemy liczbę jedności otrzymamy 6. Jeżeli do liczby dziesiątek dodamy liczbę jedności otrzymamy 10.\n",
    "\n",
    "* znajdź wszystkie liczby trzycyfrowe spełniające ten warunek\n",
    "* znajdź liczby trzycyfrowe podzielne przez 3\n",
    "\n",
    "[Podpowiedź](https://pl.wikipedia.org/wiki/Uk%C5%82ad_r%C3%B3wna%C5%84_liniowych):\n",
    "$$ Ax=B $$\n",
    "$$ x = A^{-1}B $$"
   ]
  }
 ],
 "metadata": {
  "kernelspec": {
   "display_name": "Python 3",
   "language": "python",
   "name": "python3"
  },
  "language_info": {
   "codemirror_mode": {
    "name": "ipython",
    "version": 3
   },
   "file_extension": ".py",
   "mimetype": "text/x-python",
   "name": "python",
   "nbconvert_exporter": "python",
   "pygments_lexer": "ipython3",
   "version": "3.9.2"
  }
 },
 "nbformat": 4,
 "nbformat_minor": 2
}
